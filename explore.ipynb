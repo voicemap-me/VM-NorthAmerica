{
 "cells": [
  {
   "cell_type": "code",
   "execution_count": 10,
   "metadata": {},
   "outputs": [],
   "source": [
    "import pandas as pd\n",
    "\n",
    "\n",
    "df = pd.read_csv(\"NorthAmericaViatorProducts_with_country_and_coords.csv\")"
   ]
  },
  {
   "cell_type": "code",
   "execution_count": 11,
   "metadata": {},
   "outputs": [
    {
     "data": {
      "text/plain": [
       "np.int64(4737)"
      ]
     },
     "execution_count": 11,
     "metadata": {},
     "output_type": "execute_result"
    }
   ],
   "source": [
    "df[\"title\"].count()\n"
   ]
  },
  {
   "cell_type": "code",
   "execution_count": 12,
   "metadata": {},
   "outputs": [],
   "source": [
    "df_missing_coords = df[df[\"latitude\"].isnull() | df[\"longitude\"].isnull()]"
   ]
  },
  {
   "cell_type": "code",
   "execution_count": 14,
   "metadata": {},
   "outputs": [
    {
     "data": {
      "text/plain": [
       "204                       La Fortuna, Central Valley\n",
       "273              Cozumel, Riviera Maya & the Yucatan\n",
       "1498              Kootenay Rockies, British Columbia\n",
       "2375                    San Francisco, Pacific Coast\n",
       "2377                    San Francisco, Pacific Coast\n",
       "2811               Tulum, Riviera Maya & the Yucatan\n",
       "2816    Playa del Carmen, Riviera Maya & the Yucatan\n",
       "2821              Cancun, Riviera Maya & the Yucatan\n",
       "2871              Cancun, Riviera Maya & the Yucatan\n",
       "3472            Progreso, Riviera Maya & the Yucatan\n",
       "3473            Progreso, Riviera Maya & the Yucatan\n",
       "3514              Merida, Riviera Maya & the Yucatan\n",
       "3516              Merida, Riviera Maya & the Yucatan\n",
       "3646              Cancun, Riviera Maya & the Yucatan\n",
       "3667                    San Francisco, Pacific Coast\n",
       "4293    Playa del Carmen, Riviera Maya & the Yucatan\n",
       "4397                    San Francisco, Pacific Coast\n",
       "4405                    San Francisco, Pacific Coast\n",
       "Name: location, dtype: object"
      ]
     },
     "execution_count": 14,
     "metadata": {},
     "output_type": "execute_result"
    }
   ],
   "source": [
    "df_missing_coords['location']"
   ]
  },
  {
   "cell_type": "code",
   "execution_count": null,
   "metadata": {},
   "outputs": [],
   "source": []
  }
 ],
 "metadata": {
  "kernelspec": {
   "display_name": "venv",
   "language": "python",
   "name": "python3"
  },
  "language_info": {
   "codemirror_mode": {
    "name": "ipython",
    "version": 3
   },
   "file_extension": ".py",
   "mimetype": "text/x-python",
   "name": "python",
   "nbconvert_exporter": "python",
   "pygments_lexer": "ipython3",
   "version": "3.13.0"
  }
 },
 "nbformat": 4,
 "nbformat_minor": 2
}
